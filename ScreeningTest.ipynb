{
 "cells": [
  {
   "cell_type": "code",
   "execution_count": 1,
   "metadata": {},
   "outputs": [],
   "source": [
    "from pydub import AudioSegment\n",
    "import whisper as whisper\n",
    "import os\n",
    "import pandas as pd\n",
    "from datetime import datetime\n",
    "import nltk\n",
    "from nltk.sentiment import SentimentIntensityAnalyzer"
   ]
  },
  {
   "cell_type": "code",
   "execution_count": 9,
   "metadata": {},
   "outputs": [
    {
     "name": "stderr",
     "output_type": "stream",
     "text": [
      "[nltk_data] Downloading package vader_lexicon to\n",
      "[nltk_data]     C:\\Users\\Searc\\AppData\\Roaming\\nltk_data...\n",
      "[nltk_data]   Package vader_lexicon is already up-to-date!\n"
     ]
    }
   ],
   "source": [
    "nltk.download(\"vader_lexicon\")\n",
    "sia = SentimentIntensityAnalyzer()"
   ]
  },
  {
   "cell_type": "code",
   "execution_count": 10,
   "metadata": {},
   "outputs": [],
   "source": [
    "#classify sentiment\n",
    "def classify_sentiment(text):\n",
    "    scores = sia.polarity_scores(text)\n",
    "    if scores['compound'] >= 0.05:\n",
    "        return \"Positive\"\n",
    "    elif scores['compound'] <= -0.05:\n",
    "        return \"Negative\"\n",
    "    else:\n",
    "        return \"Neutral\""
   ]
  },
  {
   "cell_type": "code",
   "execution_count": null,
   "metadata": {},
   "outputs": [],
   "source": [
    "#single video file\n",
    "def process_video(mp4_file):\n",
    "    \"\"\"\n",
    "    Processes an MP4 file: extracts audio, segments it, transcribes text, \n",
    "    analyzes sentiment, and saves the results in a CSV file.\n",
    "\n",
    "    Args:\n",
    "        mp4_file (str): The path to the video file.\n",
    "\n",
    "    Returns:\n",
    "        str: Path to the generated CSV file.\n",
    "    \"\"\"\n",
    "    print(f\"Processing: {mp4_file}\")\n",
    "\n",
    "    #check the exsistence\n",
    "    if not os.path.exists(mp4_file):\n",
    "        print(f\"Error: File '{mp4_file}' not found.\")\n",
    "        return None\n",
    "\n",
    "    #MP4 to WAV (16kHz, mono)\n",
    "    wav_file = mp4_file.replace(\".mp4\", \".wav\")\n",
    "    audio = AudioSegment.from_file(mp4_file, format=\"mp4\")\n",
    "    audio = audio.set_frame_rate(16000).set_channels(1)\n",
    "    audio.export(wav_file, format=\"wav\")\n",
    "\n",
    "    #Whisper model\n",
    "    model = whisper.load_model(\"base\")\n",
    "\n",
    "    #segment audio into 5s chunks\n",
    "    chunk_length_ms = 5000  # 5 seconds\n",
    "    chunks = [audio[i:i + chunk_length_ms] for i in range(0, len(audio), chunk_length_ms)]\n",
    "\n",
    "    #store results\n",
    "    data = []\n",
    "\n",
    "    for i, chunk in enumerate(chunks):\n",
    "        start_time = i * 5  # Start time in seconds\n",
    "        chunk_filename = f\"chunk_{i}.wav\"\n",
    "        chunk.export(chunk_filename, format=\"wav\")\n",
    "\n",
    "        #transcribe with Whisper\n",
    "        result = model.transcribe(chunk_filename)\n",
    "        text = result[\"text\"].strip()\n",
    "\n",
    "        #sentiment analysis\n",
    "        sentiment = classify_sentiment(text) if text else \"Neutral\"\n",
    "\n",
    "        #store data\n",
    "        data.append({\n",
    "            \"Timestamp (s)\": start_time,\n",
    "            \"Transcription\": text,\n",
    "            \"Sentiment\": sentiment\n",
    "        })\n",
    "\n",
    "        print(f\"[{start_time}s] {text} - Sentiment: {sentiment}\")\n",
    "\n",
    "        os.remove(chunk_filename)  #cleanup\n",
    "\n",
    "    df = pd.DataFrame(data)\n",
    "\n",
    "    #csv\n",
    "    output_dir = \"transcriptions\"\n",
    "    os.makedirs(output_dir, exist_ok=True)\n",
    "    timestamp = datetime.now().strftime(\"%Y%m%d_%H%M%S\")\n",
    "    csv_filename = os.path.join(output_dir, f\"transcription_{timestamp}.csv\")\n",
    "\n",
    "    #save\n",
    "    df.to_csv(csv_filename, index=False, encoding=\"utf-8\")\n",
    "    print(f\"\\nTranscription complete. Saved to: {csv_filename}\")\n",
    "\n",
    "    return csv_filename\n",
    "\n"
   ]
  },
  {
   "cell_type": "code",
   "execution_count": null,
   "metadata": {},
   "outputs": [],
   "source": [
    "#process multiple videos\n",
    "def process_all_videos(video_folder):\n",
    "    \"\"\"\n",
    "    Processes all MP4 files in a given folder.\n",
    "\n",
    "    Args:\n",
    "        video_folder (str): Path to the directory containing video files.\n",
    "    \"\"\"\n",
    "    print(f\"Scanning directory: {video_folder}\")\n",
    "\n",
    "    video_files = [f for f in os.listdir(video_folder) if f.endswith(\".mp4\")]\n",
    "    \n",
    "    if not video_files:\n",
    "        print(\"No video files found in the directory.\")\n",
    "        return\n",
    "\n",
    "    for video in video_files:\n",
    "        video_path = os.path.join(video_folder, video)\n",
    "        process_video(video_path)"
   ]
  },
  {
   "cell_type": "code",
   "execution_count": 13,
   "metadata": {},
   "outputs": [
    {
     "name": "stdout",
     "output_type": "stream",
     "text": [
      "Processing: Experimenter_CREW.mp4\n",
      "[0s]  - Sentiment: Neutral\n",
      "[5s] Okay, so the - Sentiment: Positive\n",
      "[10s] you're going to complete and use the key and the object detection system so that means you will not need to. - Sentiment: Neutral\n",
      "[15s] operate vehicle, checking your needs off the steering wheel and meet up the pedals, once we begin that drive. - Sentiment: Neutral\n",
      "[20s] Okay, so when you see that some driver indicator highlight green make sure you don't get the break at any point during - Sentiment: Positive\n",
      "[25s] drive. This dot the car cab look at will have the hood yes for getting visual - Sentiment: Positive\n",
      "[30s] for targets that are in the environment. The car cabboultch, outshapage, that screen, tape them. - Sentiment: Neutral\n",
      "[35s] and it went out to turn the mission. Remember to tap the targets on that ODS as well as completing the booth. - Sentiment: Positive\n",
      "[40s] on board. Sometimes you can see all his workstation tests. - Sentiment: Neutral\n",
      "[45s] Alright, so all drivers picture fit on the brake. You're not removing it. - Sentiment: Positive\n",
      "[50s] your foot from the brake until I instruct you to remove it or cap driver you may start the car. - Sentiment: Neutral\n",
      "[55s] I'll drive with your foot still on the brake. - Sentiment: Neutral\n",
      "[60s] You drove through me. - Sentiment: Neutral\n",
      "[65s] www.carcabtriver.com - Sentiment: Neutral\n",
      "[70s]  - Sentiment: Neutral\n",
      "[75s] go back, hardcap driver and only the car kept driving. - Sentiment: Neutral\n",
      "[80s] Yes. Yeah, right. Make sure everyone isn't drive. - Sentiment: Positive\n",
      "[85s] I am now in drive. - Sentiment: Neutral\n",
      "[90s] Maybe get moving forward. - Sentiment: Neutral\n",
      "[95s] So drone is it available... - Sentiment: Neutral\n",
      "[100s] some driver on. - Sentiment: Neutral\n",
      "[105s] 1 hour - Sentiment: Neutral\n",
      "[110s] Dodge that, because body car! Sgotter! Yeah, has it gone... - Sentiment: Positive\n",
      "[115s] Gift. But bad. - Sentiment: Negative\n",
      "[120s] It's driving out of it. - Sentiment: Neutral\n",
      "[125s] I see scooters on both sides of the road - Sentiment: Neutral\n",
      "[130s] this one. Yeah it's like motorcycles. - Sentiment: Positive\n",
      "[135s] Yeah, that's on the other side of the road. Passing now - Sentiment: Positive\n",
      "[140s] at the end of the $rowback - Sentiment: Neutral\n",
      "[145s]  - Sentiment: Neutral\n",
      "[150s] Do you have any target? Not yet. I hit... - Sentiment: Neutral\n",
      "[155s] I'll get a 10-and-fight, but... Yes, well... Okay. - Sentiment: Positive\n",
      "[160s] Those motorcycles were giving me a car. - Sentiment: Positive\n",
      "[165s] It's kind of beat up. There's a box on the roof. Yeah. Pass R-C. - Sentiment: Positive\n",
      "[170s] 10 o'clock. I think we used. - Sentiment: Neutral\n",
      "[175s] I'm a bad size. You're a bad guy. I'm a bug. Puzzing now. Yep. - Sentiment: Negative\n",
      "[180s] We're also passing it out. Part one. - Sentiment: Neutral\n",
      "[185s] on - Sentiment: Neutral\n",
      "[190s] three so far behind car two. - Sentiment: Neutral\n",
      "[195s] Yes. - Sentiment: Positive\n",
      "[200s]  - Sentiment: Neutral\n",
      "[205s] There's hard to catch. - Sentiment: Negative\n",
      "[210s] Is the ODS working? - Sentiment: Neutral\n",
      "[215s] Yes, sometimes there is a green bud there. This identify that. - Sentiment: Positive\n",
      "[220s] No, you won't see anything, but that might see something in the passenger seat of Podia. - Sentiment: Negative\n",
      "[225s] It should be a wide car right now. - Sentiment: Neutral\n",
      "[230s] ignoring Maybe a guy andullen But That's period And right right And 28 28 28 29 27 - Sentiment: Negative\n",
      "[235s] And with SUVs as in here, SUVs - Sentiment: Neutral\n",
      "[240s] I see a camel. - Sentiment: Neutral\n",
      "[245s] L that cars come - Sentiment: Neutral\n",
      "[250s] There's a driving white car on the left. - Sentiment: Neutral\n",
      "[255s] yeah hasection - Sentiment: Positive\n",
      "[260s] I think that was it. Yeah. We have another way to... - Sentiment: Positive\n",
      "[265s] SUV and passing that one left now. - Sentiment: Neutral\n",
      "[270s] now is up. - Sentiment: Neutral\n",
      "[275s]  - Sentiment: Neutral\n",
      "[280s] passing military checkpoint - Sentiment: Neutral\n",
      "[285s] Um. I'm nearer – - Sentiment: Neutral\n",
      "[290s] Ces oluyor. - Sentiment: Neutral\n",
      "[295s] covering it is gone fifth model. - Sentiment: Neutral\n",
      "[300s] Yeah - Sentiment: Positive\n",
      "[305s]  - Sentiment: Neutral\n",
      "[310s] Jack, do you feel like this is good? - Sentiment: Positive\n",
      "[315s] you enough to understand or do you want to continue? Yeah, I see. - Sentiment: Positive\n",
      "[320s] I think it's how about you comment it. I think it's enough. - Sentiment: Neutral\n",
      "[325s] I mean I'm having fun but we can stop if you want to. - Sentiment: Negative\n",
      "[330s] And we kill it. So... All dry. - Sentiment: Negative\n",
      "[335s] Okay, come here. - Sentiment: Positive\n",
      "[340s] of breaking out. - Sentiment: Neutral\n",
      "[345s] Please don't run through me. No. - Sentiment: Neutral\n",
      "[350s] We've been we're ended - Sentiment: Neutral\n",
      "[355s] park now. - Sentiment: Neutral\n",
      "\n",
      "Transcription complete. Saved to: transcriptions\\transcription_20250315_165715.csv\n"
     ]
    }
   ],
   "source": [
    "#process for single video\n",
    "if __name__ == \"__main__\":\n",
    "    video_file = \"Experimenter_CREW.mp4\" \n",
    "    csv_output = process_video(video_file)"
   ]
  },
  {
   "cell_type": "code",
   "execution_count": 14,
   "metadata": {},
   "outputs": [],
   "source": [
    "import matplotlib.pyplot as plt\n",
    "import numpy as np\n",
    "def load_transcription_data(filepath):\n",
    "    if not os.path.exists(filepath):\n",
    "        print(f\"Error: File '{filepath}' not found.\")\n",
    "        return None\n",
    "    return pd.read_csv(filepath)"
   ]
  },
  {
   "cell_type": "code",
   "execution_count": null,
   "metadata": {},
   "outputs": [],
   "source": [
    "def plot_word_histogram(df):\n",
    "    \"\"\"\n",
    "    Generates a histogram of word counts per 5-second interval.\n",
    "\n",
    "    Args:\n",
    "        df (pandas.DataFrame): The transcription dataframe.\n",
    "    \"\"\"\n",
    "    df[\"Bucket\"] = df[\"Timestamp (s)\"] // 5 * 5  #group into 5s intervals\n",
    "\n",
    "    #clean transcriptions(ensure all String)\n",
    "    df[\"Transcription\"] = df[\"Transcription\"].astype(str).fillna(\"\")\n",
    "\n",
    "    #count words per time bucket\n",
    "    word_counts = df.groupby(\"Bucket\")[\"Transcription\"].apply(lambda x: sum(len(str(t).split()) for t in x)).reset_index()\n",
    "\n",
    "    #Histogram\n",
    "    plt.figure(figsize=(12, 6))\n",
    "    plt.bar(word_counts[\"Bucket\"], word_counts[\"Transcription\"], width=5, align=\"edge\")\n",
    "    plt.xlabel(\"Time Buckets (seconds)\")\n",
    "    plt.ylabel(\"Word Count\")\n",
    "    plt.title(\"Histogram of Transcribed Words per 5-Second Interval\")\n",
    "    x_ticks = word_counts[\"Bucket\"].values\n",
    "    plt.xticks(x_ticks[::3]) \n",
    "    plt.grid(axis=\"y\", linestyle=\"--\", alpha=0.7)\n",
    "    plt.show()\n"
   ]
  },
  {
   "cell_type": "code",
   "execution_count": null,
   "metadata": {},
   "outputs": [],
   "source": [
    "def plot_sentiment_distribution(df):\n",
    "    \"\"\"\n",
    "    Generates a pie chart showing sentiment classification distribution.\n",
    "\n",
    "    Args:\n",
    "        df (pandas.DataFrame): The transcription dataframe.\n",
    "    \"\"\"\n",
    "    sentiment_counts = df[\"Sentiment\"].value_counts()\n",
    "\n",
    "    plt.figure(figsize=(8, 6))\n",
    "    plt.pie(sentiment_counts, labels=sentiment_counts.index, autopct=\"%1.1f%%\", startangle=140, colors=[\"green\", \"red\", \"gray\"])\n",
    "    plt.title(\"Sentiment Distribution\")\n",
    "    plt.show()"
   ]
  },
  {
   "cell_type": "code",
   "execution_count": null,
   "metadata": {},
   "outputs": [
    {
     "name": "stdout",
     "output_type": "stream",
     "text": [
      "Processing transcription_20250315_165715.csv...\n"
     ]
    },
    {
     "data": {
      "image/png": "[encoded data removed]",
      "text/plain": [
       "<Figure size 1200x600 with 1 Axes>"
      ]
     },
     "metadata": {},
     "output_type": "display_data"
    },
    {
     "data": {
      "image/png": "[encoded data removed]",
      "text/plain": [
       "<Figure size 800x600 with 1 Axes>"
      ]
     },
     "metadata": {},
     "output_type": "display_data"
    }
   ],
   "source": [
    "def process_all_csv():\n",
    "    transcriptions_folder = \"transcriptions\"\n",
    "\n",
    "    if not os.path.exists(transcriptions_folder):\n",
    "        print(f\"Error: Folder '{transcriptions_folder}' does not exist.\")\n",
    "        return\n",
    "\n",
    "    csv_files = [f for f in os.listdir(transcriptions_folder) if f.endswith(\".csv\")]\n",
    "\n",
    "    if not csv_files:\n",
    "        print(\"No transcription CSV files found in the folder.\")\n",
    "        return\n",
    "\n",
    "    #process each CSV\n",
    "    for csv_file in csv_files:\n",
    "        csv_path = os.path.join(transcriptions_folder, csv_file)\n",
    "        df = load_transcription_data(csv_path)\n",
    "\n",
    "        if df is not None:\n",
    "            print(f\"Processing {csv_file}...\")\n",
    "            plot_word_histogram(df) #Histogram\n",
    "            plot_sentiment_distribution(df) #Sentiment Distribution\n",
    "\n",
    "if __name__ == \"__main__\":\n",
    "    process_all_csv()"
   ]
  }
 ],
 "metadata": {
  "kernelspec": {
   "display_name": "GSoC",
   "language": "python",
   "name": "python3"
  },
  "language_info": {
   "codemirror_mode": {
    "name": "ipython",
    "version": 3
   },
   "file_extension": ".py",
   "mimetype": "text/x-python",
   "name": "python",
   "nbconvert_exporter": "python",
   "pygments_lexer": "ipython3",
   "version": "3.10.10"
  }
 },
 "nbformat": 4,
 "nbformat_minor": 2
}
